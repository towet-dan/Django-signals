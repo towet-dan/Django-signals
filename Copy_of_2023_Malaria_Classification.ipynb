{
  "nbformat": 4,
  "nbformat_minor": 0,
  "metadata": {
    "colab": {
      "provenance": [],
      "gpuType": "T4",
      "mount_file_id": "11JZ_ZcyTI8DSrh9DKCjGVu7mzv1ZvU8B",
      "authorship_tag": "ABX9TyPJML1k2C+GvBVeBnb3d3bV",
      "include_colab_link": true
    },
    "kernelspec": {
      "name": "python3",
      "display_name": "Python 3"
    },
    "language_info": {
      "name": "python"
    },
    "accelerator": "GPU"
  },
  "cells": [
    {
      "cell_type": "markdown",
      "metadata": {
        "id": "view-in-github",
        "colab_type": "text"
      },
      "source": [
        "<a href=\"https://colab.research.google.com/github/towet-dan/Django-signals/blob/main/Copy_of_2023_Malaria_Classification.ipynb\" target=\"_parent\"><img src=\"https://colab.research.google.com/assets/colab-badge.svg\" alt=\"Open In Colab\"/></a>"
      ]
    },
    {
      "cell_type": "markdown",
      "source": [
        "#Importing the required libraries"
      ],
      "metadata": {
        "id": "2HC5Cc9Cb6D0"
      }
    },
    {
      "cell_type": "code",
      "execution_count": null,
      "metadata": {
        "id": "Bc4O_N09D_Wz"
      },
      "outputs": [],
      "source": [
        "import tensorflow\n",
        "from tensorflow.keras.layers import Input, Lambda, Dense, Flatten\n",
        "from tensorflow.keras.models import Sequential, Model\n",
        "from tensorflow.keras.applications.vgg19 import VGG19\n",
        "from tensorflow.keras.preprocessing import image\n",
        "from tensorflow.keras.preprocessing.image import ImageDataGenerator, load_img\n",
        "import numpy as np\n",
        "import os\n",
        "import matplotlib.pyplot as plt\n",
        "import cv2\n"
      ]
    },
    {
      "cell_type": "markdown",
      "source": [
        "# the size of the image height and with"
      ],
      "metadata": {
        "id": "zJc0iQM_bw48"
      }
    },
    {
      "cell_type": "code",
      "source": [
        "image_size = [224, 224]"
      ],
      "metadata": {
        "id": "DzzearLdF8Tx"
      },
      "execution_count": null,
      "outputs": []
    },
    {
      "cell_type": "markdown",
      "source": [
        "#Path for training, testing and validation data"
      ],
      "metadata": {
        "id": "JbdlxoNocCLj"
      }
    },
    {
      "cell_type": "code",
      "source": [
        "train_path = \"/content/drive/MyDrive/DataSet/cell_images2/train\"\n",
        "test_path = \"/content/drive/MyDrive/DataSet/cell_images2/test\"\n",
        "val_path = \"/content/drive/MyDrive/DataSet/cell_images2/val\""
      ],
      "metadata": {
        "id": "SCAh5Ph4GBZE"
      },
      "execution_count": null,
      "outputs": []
    },
    {
      "cell_type": "markdown",
      "source": [
        "#Instantiating the vgg19 class"
      ],
      "metadata": {
        "id": "u63rxtEqcJ7Z"
      }
    },
    {
      "cell_type": "code",
      "source": [
        "vgg19 = VGG19(input_shape = image_size + [3], weights='imagenet', include_top=False)"
      ],
      "metadata": {
        "colab": {
          "base_uri": "https://localhost:8080/"
        },
        "id": "7IC71t-kGRcR",
        "outputId": "2ee4fd92-93bf-43d4-9fe0-c62b1dd0f50a"
      },
      "execution_count": null,
      "outputs": [
        {
          "output_type": "stream",
          "name": "stdout",
          "text": [
            "Downloading data from https://storage.googleapis.com/tensorflow/keras-applications/vgg19/vgg19_weights_tf_dim_ordering_tf_kernels_notop.h5\n",
            "80134624/80134624 [==============================] - 0s 0us/step\n"
          ]
        }
      ]
    },
    {
      "cell_type": "markdown",
      "source": [
        "#Here we are not going to train again the layers"
      ],
      "metadata": {
        "id": "FvhuVAzUcQNB"
      }
    },
    {
      "cell_type": "code",
      "source": [
        "for layer in vgg19.layers:\n",
        "  layer.trainable = False"
      ],
      "metadata": {
        "id": "a4EHw5UpGjmk"
      },
      "execution_count": null,
      "outputs": []
    },
    {
      "cell_type": "code",
      "source": [
        "folders = os.listdir(\"/content/drive/MyDrive/DataSet/cell_images2/train\")\n",
        "print(folders)"
      ],
      "metadata": {
        "colab": {
          "base_uri": "https://localhost:8080/"
        },
        "id": "caLxHJqoGsSB",
        "outputId": "cce998b1-9150-4d1b-efd3-4b7d4c915659"
      },
      "execution_count": null,
      "outputs": [
        {
          "output_type": "stream",
          "name": "stdout",
          "text": [
            "['Parasitized', 'Uninfected']\n"
          ]
        }
      ]
    },
    {
      "cell_type": "markdown",
      "source": [
        "#We are flattening the last layer"
      ],
      "metadata": {
        "id": "CIOVLh6JccJh"
      }
    },
    {
      "cell_type": "code",
      "source": [
        "x = Flatten()(vgg19.output)"
      ],
      "metadata": {
        "id": "8PLxcyMiG-RU"
      },
      "execution_count": null,
      "outputs": []
    },
    {
      "cell_type": "markdown",
      "source": [
        "#Creating the output using the dense layer, two output hence we use softmax activation"
      ],
      "metadata": {
        "id": "hoVO669FcjDe"
      }
    },
    {
      "cell_type": "code",
      "source": [
        "predictions = Dense(len(folders), activation = \"softmax\")(x)"
      ],
      "metadata": {
        "id": "Wvti9wBZHGpi"
      },
      "execution_count": null,
      "outputs": []
    },
    {
      "cell_type": "markdown",
      "source": [
        "#Model instantiation"
      ],
      "metadata": {
        "id": "kRNffU1xcvJy"
      }
    },
    {
      "cell_type": "code",
      "source": [
        "model = Model(inputs = vgg19.input, outputs = predictions)"
      ],
      "metadata": {
        "id": "hg3nu2SJHPw_"
      },
      "execution_count": null,
      "outputs": []
    },
    {
      "cell_type": "markdown",
      "source": [
        "#Getting the summary of the model"
      ],
      "metadata": {
        "id": "K74Alj1Gc0II"
      }
    },
    {
      "cell_type": "code",
      "source": [
        "model.summary()"
      ],
      "metadata": {
        "colab": {
          "base_uri": "https://localhost:8080/"
        },
        "id": "NgSzsaUmHrra",
        "outputId": "d39676ce-71c5-4faa-a0ef-0f65c63b41ce"
      },
      "execution_count": null,
      "outputs": [
        {
          "output_type": "stream",
          "name": "stdout",
          "text": [
            "Model: \"model_1\"\n",
            "_________________________________________________________________\n",
            " Layer (type)                Output Shape              Param #   \n",
            "=================================================================\n",
            " input_1 (InputLayer)        [(None, 224, 224, 3)]     0         \n",
            "                                                                 \n",
            " block1_conv1 (Conv2D)       (None, 224, 224, 64)      1792      \n",
            "                                                                 \n",
            " block1_conv2 (Conv2D)       (None, 224, 224, 64)      36928     \n",
            "                                                                 \n",
            " block1_pool (MaxPooling2D)  (None, 112, 112, 64)      0         \n",
            "                                                                 \n",
            " block2_conv1 (Conv2D)       (None, 112, 112, 128)     73856     \n",
            "                                                                 \n",
            " block2_conv2 (Conv2D)       (None, 112, 112, 128)     147584    \n",
            "                                                                 \n",
            " block2_pool (MaxPooling2D)  (None, 56, 56, 128)       0         \n",
            "                                                                 \n",
            " block3_conv1 (Conv2D)       (None, 56, 56, 256)       295168    \n",
            "                                                                 \n",
            " block3_conv2 (Conv2D)       (None, 56, 56, 256)       590080    \n",
            "                                                                 \n",
            " block3_conv3 (Conv2D)       (None, 56, 56, 256)       590080    \n",
            "                                                                 \n",
            " block3_conv4 (Conv2D)       (None, 56, 56, 256)       590080    \n",
            "                                                                 \n",
            " block3_pool (MaxPooling2D)  (None, 28, 28, 256)       0         \n",
            "                                                                 \n",
            " block4_conv1 (Conv2D)       (None, 28, 28, 512)       1180160   \n",
            "                                                                 \n",
            " block4_conv2 (Conv2D)       (None, 28, 28, 512)       2359808   \n",
            "                                                                 \n",
            " block4_conv3 (Conv2D)       (None, 28, 28, 512)       2359808   \n",
            "                                                                 \n",
            " block4_conv4 (Conv2D)       (None, 28, 28, 512)       2359808   \n",
            "                                                                 \n",
            " block4_pool (MaxPooling2D)  (None, 14, 14, 512)       0         \n",
            "                                                                 \n",
            " block5_conv1 (Conv2D)       (None, 14, 14, 512)       2359808   \n",
            "                                                                 \n",
            " block5_conv2 (Conv2D)       (None, 14, 14, 512)       2359808   \n",
            "                                                                 \n",
            " block5_conv3 (Conv2D)       (None, 14, 14, 512)       2359808   \n",
            "                                                                 \n",
            " block5_conv4 (Conv2D)       (None, 14, 14, 512)       2359808   \n",
            "                                                                 \n",
            " block5_pool (MaxPooling2D)  (None, 7, 7, 512)         0         \n",
            "                                                                 \n",
            " flatten (Flatten)           (None, 25088)             0         \n",
            "                                                                 \n",
            " dense (Dense)               (None, 2)                 50178     \n",
            "                                                                 \n",
            "=================================================================\n",
            "Total params: 20,074,562\n",
            "Trainable params: 50,178\n",
            "Non-trainable params: 20,024,384\n",
            "_________________________________________________________________\n"
          ]
        }
      ]
    },
    {
      "cell_type": "markdown",
      "source": [
        "#Here we are doing the data augumentation"
      ],
      "metadata": {
        "id": "LJbgFts6c5yg"
      }
    },
    {
      "cell_type": "code",
      "source": [
        "train_datagen = ImageDataGenerator(rescale = 1./255, shear_range=0.2, zoom_range=0.2, horizontal_flip=True)\n",
        "test_datagen = ImageDataGenerator(rescale= 1./255)\n",
        "val_datagen = ImageDataGenerator(rescale = 1./255)"
      ],
      "metadata": {
        "id": "ogOM0M1qHxep"
      },
      "execution_count": null,
      "outputs": []
    },
    {
      "cell_type": "code",
      "source": [
        "train_set = train_datagen.flow_from_directory(\"/content/drive/MyDrive/DataSet/cell_images2/train\", target_size = (224, 224), batch_size = 32, class_mode = \"categorical\")\n",
        "test_set = test_datagen.flow_from_directory(\"/content/drive/MyDrive/DataSet/cell_images2/test\", target_size = (224, 224), batch_size = 32, class_mode = \"categorical\")\n",
        "val_set = val_datagen.flow_from_directory(\"/content/drive/MyDrive/DataSet/cell_images2/val\", target_size = (224, 224), batch_size = 32, class_mode = \"categorical\")"
      ],
      "metadata": {
        "colab": {
          "base_uri": "https://localhost:8080/"
        },
        "id": "gmOtNypEIT07",
        "outputId": "b4b1c474-0fb8-4e9d-e9a2-2a88d8d2a0ff"
      },
      "execution_count": null,
      "outputs": [
        {
          "output_type": "stream",
          "name": "stdout",
          "text": [
            "Found 19311 images belonging to 2 classes.\n",
            "Found 2761 images belonging to 2 classes.\n",
            "Found 5516 images belonging to 2 classes.\n"
          ]
        }
      ]
    },
    {
      "cell_type": "markdown",
      "source": [
        "#Model compilation process"
      ],
      "metadata": {
        "id": "XzPs91SOdBC3"
      }
    },
    {
      "cell_type": "code",
      "source": [
        "model.compile(optimizer=\"adam\", loss = \"categorical_crossentropy\", metrics = ['accuracy'])"
      ],
      "metadata": {
        "id": "Zn5ShokSJebV"
      },
      "execution_count": null,
      "outputs": []
    },
    {
      "cell_type": "code",
      "source": [
        "model.summary()"
      ],
      "metadata": {
        "colab": {
          "base_uri": "https://localhost:8080/"
        },
        "id": "XIS6tGm5JqhQ",
        "outputId": "728fe966-5e46-4aca-ffbf-ebddf464fd30"
      },
      "execution_count": null,
      "outputs": [
        {
          "output_type": "stream",
          "name": "stdout",
          "text": [
            "Model: \"model_1\"\n",
            "_________________________________________________________________\n",
            " Layer (type)                Output Shape              Param #   \n",
            "=================================================================\n",
            " input_1 (InputLayer)        [(None, 224, 224, 3)]     0         \n",
            "                                                                 \n",
            " block1_conv1 (Conv2D)       (None, 224, 224, 64)      1792      \n",
            "                                                                 \n",
            " block1_conv2 (Conv2D)       (None, 224, 224, 64)      36928     \n",
            "                                                                 \n",
            " block1_pool (MaxPooling2D)  (None, 112, 112, 64)      0         \n",
            "                                                                 \n",
            " block2_conv1 (Conv2D)       (None, 112, 112, 128)     73856     \n",
            "                                                                 \n",
            " block2_conv2 (Conv2D)       (None, 112, 112, 128)     147584    \n",
            "                                                                 \n",
            " block2_pool (MaxPooling2D)  (None, 56, 56, 128)       0         \n",
            "                                                                 \n",
            " block3_conv1 (Conv2D)       (None, 56, 56, 256)       295168    \n",
            "                                                                 \n",
            " block3_conv2 (Conv2D)       (None, 56, 56, 256)       590080    \n",
            "                                                                 \n",
            " block3_conv3 (Conv2D)       (None, 56, 56, 256)       590080    \n",
            "                                                                 \n",
            " block3_conv4 (Conv2D)       (None, 56, 56, 256)       590080    \n",
            "                                                                 \n",
            " block3_pool (MaxPooling2D)  (None, 28, 28, 256)       0         \n",
            "                                                                 \n",
            " block4_conv1 (Conv2D)       (None, 28, 28, 512)       1180160   \n",
            "                                                                 \n",
            " block4_conv2 (Conv2D)       (None, 28, 28, 512)       2359808   \n",
            "                                                                 \n",
            " block4_conv3 (Conv2D)       (None, 28, 28, 512)       2359808   \n",
            "                                                                 \n",
            " block4_conv4 (Conv2D)       (None, 28, 28, 512)       2359808   \n",
            "                                                                 \n",
            " block4_pool (MaxPooling2D)  (None, 14, 14, 512)       0         \n",
            "                                                                 \n",
            " block5_conv1 (Conv2D)       (None, 14, 14, 512)       2359808   \n",
            "                                                                 \n",
            " block5_conv2 (Conv2D)       (None, 14, 14, 512)       2359808   \n",
            "                                                                 \n",
            " block5_conv3 (Conv2D)       (None, 14, 14, 512)       2359808   \n",
            "                                                                 \n",
            " block5_conv4 (Conv2D)       (None, 14, 14, 512)       2359808   \n",
            "                                                                 \n",
            " block5_pool (MaxPooling2D)  (None, 7, 7, 512)         0         \n",
            "                                                                 \n",
            " flatten (Flatten)           (None, 25088)             0         \n",
            "                                                                 \n",
            " dense (Dense)               (None, 2)                 50178     \n",
            "                                                                 \n",
            "=================================================================\n",
            "Total params: 20,074,562\n",
            "Trainable params: 50,178\n",
            "Non-trainable params: 20,024,384\n",
            "_________________________________________________________________\n"
          ]
        }
      ]
    },
    {
      "cell_type": "markdown",
      "source": [
        "#Here is the training of the model"
      ],
      "metadata": {
        "id": "xUYC8FI0dFit"
      }
    },
    {
      "cell_type": "code",
      "source": [
        "history = model.fit(train_set, validation_data = val_set, epochs = 20, steps_per_epoch=len(train_set), validation_steps=len(val_set))"
      ],
      "metadata": {
        "colab": {
          "base_uri": "https://localhost:8080/"
        },
        "id": "DhiXzx04KHlP",
        "outputId": "ce12493d-2a4f-4d96-d913-c1d0d092a898"
      },
      "execution_count": null,
      "outputs": [
        {
          "output_type": "stream",
          "name": "stderr",
          "text": [
            "<ipython-input-23-e6aac5e51546>:1: UserWarning: `Model.fit_generator` is deprecated and will be removed in a future version. Please use `Model.fit`, which supports generators.\n",
            "  history = model.fit_generator(train_set, validation_data = val_set, epochs = 20, steps_per_epoch=len(train_set), validation_steps=len(val_set))\n"
          ]
        },
        {
          "output_type": "stream",
          "name": "stdout",
          "text": [
            "Epoch 1/20\n",
            "604/604 [==============================] - 2795s 5s/step - loss: 0.2954 - accuracy: 0.8782 - val_loss: 0.2433 - val_accuracy: 0.9065\n",
            "Epoch 2/20\n",
            "604/604 [==============================] - 333s 551ms/step - loss: 0.2674 - accuracy: 0.8966 - val_loss: 0.2655 - val_accuracy: 0.8954\n",
            "Epoch 3/20\n",
            "604/604 [==============================] - 305s 504ms/step - loss: 0.2524 - accuracy: 0.9046 - val_loss: 0.3199 - val_accuracy: 0.8813\n",
            "Epoch 4/20\n",
            "604/604 [==============================] - 325s 538ms/step - loss: 0.2667 - accuracy: 0.9009 - val_loss: 0.2108 - val_accuracy: 0.9191\n",
            "Epoch 5/20\n",
            "604/604 [==============================] - 321s 532ms/step - loss: 0.2618 - accuracy: 0.9048 - val_loss: 0.2656 - val_accuracy: 0.8996\n",
            "Epoch 6/20\n",
            "604/604 [==============================] - 321s 532ms/step - loss: 0.2626 - accuracy: 0.9058 - val_loss: 0.2645 - val_accuracy: 0.9075\n",
            "Epoch 7/20\n",
            "604/604 [==============================] - 321s 531ms/step - loss: 0.2314 - accuracy: 0.9165 - val_loss: 0.2710 - val_accuracy: 0.9055\n",
            "Epoch 8/20\n",
            "604/604 [==============================] - 336s 556ms/step - loss: 0.2248 - accuracy: 0.9195 - val_loss: 0.2659 - val_accuracy: 0.9121\n",
            "Epoch 9/20\n",
            "604/604 [==============================] - 319s 529ms/step - loss: 0.2389 - accuracy: 0.9154 - val_loss: 0.2758 - val_accuracy: 0.9081\n",
            "Epoch 10/20\n",
            "604/604 [==============================] - 319s 528ms/step - loss: 0.2664 - accuracy: 0.9084 - val_loss: 0.2177 - val_accuracy: 0.9204\n",
            "Epoch 11/20\n",
            "604/604 [==============================] - 322s 534ms/step - loss: 0.2582 - accuracy: 0.9122 - val_loss: 0.2755 - val_accuracy: 0.9068\n",
            "Epoch 12/20\n",
            "604/604 [==============================] - 336s 556ms/step - loss: 0.2284 - accuracy: 0.9207 - val_loss: 0.5817 - val_accuracy: 0.8477\n",
            "Epoch 13/20\n",
            "604/604 [==============================] - 323s 534ms/step - loss: 0.2400 - accuracy: 0.9157 - val_loss: 0.2640 - val_accuracy: 0.9115\n",
            "Epoch 14/20\n",
            "604/604 [==============================] - 320s 529ms/step - loss: 0.2348 - accuracy: 0.9176 - val_loss: 0.2404 - val_accuracy: 0.9182\n",
            "Epoch 15/20\n",
            "604/604 [==============================] - 329s 544ms/step - loss: 0.2272 - accuracy: 0.9228 - val_loss: 0.3621 - val_accuracy: 0.8921\n",
            "Epoch 16/20\n",
            "604/604 [==============================] - 317s 524ms/step - loss: 0.2210 - accuracy: 0.9261 - val_loss: 0.2159 - val_accuracy: 0.9249\n",
            "Epoch 17/20\n",
            "604/604 [==============================] - 321s 532ms/step - loss: 0.2093 - accuracy: 0.9257 - val_loss: 0.3955 - val_accuracy: 0.8840\n",
            "Epoch 18/20\n",
            "604/604 [==============================] - 324s 537ms/step - loss: 0.2184 - accuracy: 0.9242 - val_loss: 0.4118 - val_accuracy: 0.8811\n",
            "Epoch 19/20\n",
            "604/604 [==============================] - 335s 554ms/step - loss: 0.2293 - accuracy: 0.9226 - val_loss: 0.3768 - val_accuracy: 0.8580\n",
            "Epoch 20/20\n",
            "604/604 [==============================] - 334s 552ms/step - loss: 0.2219 - accuracy: 0.9265 - val_loss: 0.3044 - val_accuracy: 0.9046\n"
          ]
        }
      ]
    },
    {
      "cell_type": "code",
      "source": [
        "model.save('2023_mal_cell.h5')\n"
      ],
      "metadata": {
        "id": "YLjIE37o3Koq"
      },
      "execution_count": null,
      "outputs": []
    },
    {
      "cell_type": "markdown",
      "source": [
        "#model evaluation"
      ],
      "metadata": {
        "id": "xeE10ipxdOWP"
      }
    },
    {
      "cell_type": "code",
      "source": [
        "model.evaluate(test_set, verbose=0)"
      ],
      "metadata": {
        "colab": {
          "base_uri": "https://localhost:8080/"
        },
        "id": "_OjKY7G93fmA",
        "outputId": "d68e69c1-2881-486e-c53a-054f1702c67e"
      },
      "execution_count": null,
      "outputs": [
        {
          "output_type": "execute_result",
          "data": {
            "text/plain": [
              "[0.333173006772995, 0.894241213798523]"
            ]
          },
          "metadata": {},
          "execution_count": 26
        }
      ]
    },
    {
      "cell_type": "code",
      "source": [
        "score = model.evaluate(test_set, verdorse = 0)"
      ],
      "metadata": {
        "colab": {
          "base_uri": "https://localhost:8080/",
          "height": 165
        },
        "id": "hLXDyo6paocV",
        "outputId": "f3d288f9-b9e0-4646-f789-6a4caacebc3f"
      },
      "execution_count": null,
      "outputs": [
        {
          "output_type": "error",
          "ename": "NameError",
          "evalue": "ignored",
          "traceback": [
            "\u001b[0;31m---------------------------------------------------------------------------\u001b[0m",
            "\u001b[0;31mNameError\u001b[0m                                 Traceback (most recent call last)",
            "\u001b[0;32m<ipython-input-1-055df5ecee9f>\u001b[0m in \u001b[0;36m<cell line: 1>\u001b[0;34m()\u001b[0m\n\u001b[0;32m----> 1\u001b[0;31m \u001b[0mscore\u001b[0m \u001b[0;34m=\u001b[0m \u001b[0mmodel\u001b[0m\u001b[0;34m.\u001b[0m\u001b[0mevaluate\u001b[0m\u001b[0;34m(\u001b[0m\u001b[0mtest_set\u001b[0m\u001b[0;34m,\u001b[0m \u001b[0mverdorse\u001b[0m \u001b[0;34m=\u001b[0m \u001b[0;36m0\u001b[0m\u001b[0;34m)\u001b[0m\u001b[0;34m\u001b[0m\u001b[0;34m\u001b[0m\u001b[0m\n\u001b[0m",
            "\u001b[0;31mNameError\u001b[0m: name 'model' is not defined"
          ]
        }
      ]
    }
  ]
}